{
 "cells": [
  {
   "cell_type": "markdown",
   "metadata": {},
   "source": [
    "### Explore Bike Share Data\n",
    "\n",
    "For this project, your goal is to ask and answer three questions about the available bikeshare data from Washington, Chicago, and New York.  This notebook can be submitted directly through the workspace when you are confident in your results.\n",
    "\n",
    "You will be graded against the project [Rubric](https://review.udacity.com/#!/rubrics/2508/view) by a mentor after you have submitted.  To get you started, you can use the template below, but feel free to be creative in your solutions!"
   ]
  },
  {
   "cell_type": "markdown",
   "metadata": {},
   "source": [
    "#### Read Data and install Libraries"
   ]
  },
  {
   "cell_type": "code",
   "execution_count": 33,
   "metadata": {},
   "outputs": [],
   "source": [
    "#Reading the data and changing any blanks with NA's\n",
    "ny = read.csv('new_york_city.csv', na.strings=c(\"\",\"NA\"))\n",
    "wash = read.csv('washington.csv', na.strings=c(\"\",\"NA\"))\n",
    "chi = read.csv('chicago.csv', na.strings=c(\"\",\"NA\"))"
   ]
  },
  {
   "cell_type": "code",
   "execution_count": 34,
   "metadata": {},
   "outputs": [],
   "source": [
    "#Installing ggplot\n",
    "library(ggplot2)"
   ]
  },
  {
   "cell_type": "code",
   "execution_count": 35,
   "metadata": {},
   "outputs": [
    {
     "data": {
      "text/html": [
       "<table>\n",
       "<thead><tr><th scope=col>X</th><th scope=col>Start.Time</th><th scope=col>End.Time</th><th scope=col>Trip.Duration</th><th scope=col>Start.Station</th><th scope=col>End.Station</th><th scope=col>User.Type</th><th scope=col>Gender</th><th scope=col>Birth.Year</th></tr></thead>\n",
       "<tbody>\n",
       "\t<tr><td>5688089                                       </td><td>2017-06-11 14:55:05                           </td><td>2017-06-11 15:08:21                           </td><td> 795                                          </td><td>Suffolk St &amp; Stanton St                   </td><td>W Broadway &amp; Spring St                    </td><td>Subscriber                                    </td><td><span style=white-space:pre-wrap>Male  </span></td><td>1998                                          </td></tr>\n",
       "\t<tr><td>4096714                                                           </td><td>2017-05-11 15:30:11                                               </td><td>2017-05-11 15:41:43                                               </td><td> 692                                                              </td><td>Lexington Ave &amp; E 63 St                                       </td><td><span style=white-space:pre-wrap>1 Ave &amp; E 78 St       </span></td><td>Subscriber                                                        </td><td><span style=white-space:pre-wrap>Male  </span>                    </td><td>1981                                                              </td></tr>\n",
       "\t<tr><td>2173887                                                            </td><td>2017-03-29 13:26:26                                                </td><td>2017-03-29 13:48:31                                                </td><td>1325                                                               </td><td><span style=white-space:pre-wrap>1 Pl &amp; Clinton St      </span></td><td><span style=white-space:pre-wrap>Henry St &amp; Degraw St  </span> </td><td>Subscriber                                                         </td><td><span style=white-space:pre-wrap>Male  </span>                     </td><td>1987                                                               </td></tr>\n",
       "\t<tr><td>3945638                                                            </td><td>2017-05-08 19:47:18                                                </td><td>2017-05-08 19:59:01                                                </td><td> 703                                                               </td><td><span style=white-space:pre-wrap>Barrow St &amp; Hudson St  </span></td><td><span style=white-space:pre-wrap>W 20 St &amp; 8 Ave       </span> </td><td>Subscriber                                                         </td><td>Female                                                             </td><td>1986                                                               </td></tr>\n",
       "\t<tr><td>6208972                                                            </td><td>2017-06-21 07:49:16                                                </td><td>2017-06-21 07:54:46                                                </td><td> 329                                                               </td><td><span style=white-space:pre-wrap>1 Ave &amp; E 44 St        </span></td><td><span style=white-space:pre-wrap>E 53 St &amp; 3 Ave       </span> </td><td>Subscriber                                                         </td><td><span style=white-space:pre-wrap>Male  </span>                     </td><td>1992                                                               </td></tr>\n",
       "\t<tr><td>1285652                                                            </td><td>2017-02-22 18:55:24                                                </td><td>2017-02-22 19:12:03                                                </td><td> 998                                                               </td><td><span style=white-space:pre-wrap>State St &amp; Smith St    </span></td><td><span style=white-space:pre-wrap>Bond St &amp; Fulton St   </span> </td><td>Subscriber                                                         </td><td><span style=white-space:pre-wrap>Male  </span>                     </td><td>1986                                                               </td></tr>\n",
       "</tbody>\n",
       "</table>\n"
      ],
      "text/latex": [
       "\\begin{tabular}{r|lllllllll}\n",
       " X & Start.Time & End.Time & Trip.Duration & Start.Station & End.Station & User.Type & Gender & Birth.Year\\\\\n",
       "\\hline\n",
       "\t 5688089                   & 2017-06-11 14:55:05       & 2017-06-11 15:08:21       &  795                      & Suffolk St \\& Stanton St & W Broadway \\& Spring St  & Subscriber                & Male                      & 1998                     \\\\\n",
       "\t 4096714                   & 2017-05-11 15:30:11       & 2017-05-11 15:41:43       &  692                      & Lexington Ave \\& E 63 St & 1 Ave \\& E 78 St         & Subscriber                & Male                      & 1981                     \\\\\n",
       "\t 2173887                   & 2017-03-29 13:26:26       & 2017-03-29 13:48:31       & 1325                      & 1 Pl \\& Clinton St       & Henry St \\& Degraw St    & Subscriber                & Male                      & 1987                     \\\\\n",
       "\t 3945638                   & 2017-05-08 19:47:18       & 2017-05-08 19:59:01       &  703                      & Barrow St \\& Hudson St   & W 20 St \\& 8 Ave         & Subscriber                & Female                    & 1986                     \\\\\n",
       "\t 6208972                   & 2017-06-21 07:49:16       & 2017-06-21 07:54:46       &  329                      & 1 Ave \\& E 44 St         & E 53 St \\& 3 Ave         & Subscriber                & Male                      & 1992                     \\\\\n",
       "\t 1285652                   & 2017-02-22 18:55:24       & 2017-02-22 19:12:03       &  998                      & State St \\& Smith St     & Bond St \\& Fulton St     & Subscriber                & Male                      & 1986                     \\\\\n",
       "\\end{tabular}\n"
      ],
      "text/markdown": [
       "\n",
       "| X | Start.Time | End.Time | Trip.Duration | Start.Station | End.Station | User.Type | Gender | Birth.Year |\n",
       "|---|---|---|---|---|---|---|---|---|\n",
       "| 5688089                 | 2017-06-11 14:55:05     | 2017-06-11 15:08:21     |  795                    | Suffolk St & Stanton St | W Broadway & Spring St  | Subscriber              | Male                    | 1998                    |\n",
       "| 4096714                 | 2017-05-11 15:30:11     | 2017-05-11 15:41:43     |  692                    | Lexington Ave & E 63 St | 1 Ave & E 78 St         | Subscriber              | Male                    | 1981                    |\n",
       "| 2173887                 | 2017-03-29 13:26:26     | 2017-03-29 13:48:31     | 1325                    | 1 Pl & Clinton St       | Henry St & Degraw St    | Subscriber              | Male                    | 1987                    |\n",
       "| 3945638                 | 2017-05-08 19:47:18     | 2017-05-08 19:59:01     |  703                    | Barrow St & Hudson St   | W 20 St & 8 Ave         | Subscriber              | Female                  | 1986                    |\n",
       "| 6208972                 | 2017-06-21 07:49:16     | 2017-06-21 07:54:46     |  329                    | 1 Ave & E 44 St         | E 53 St & 3 Ave         | Subscriber              | Male                    | 1992                    |\n",
       "| 1285652                 | 2017-02-22 18:55:24     | 2017-02-22 19:12:03     |  998                    | State St & Smith St     | Bond St & Fulton St     | Subscriber              | Male                    | 1986                    |\n",
       "\n"
      ],
      "text/plain": [
       "  X       Start.Time          End.Time            Trip.Duration\n",
       "1 5688089 2017-06-11 14:55:05 2017-06-11 15:08:21  795         \n",
       "2 4096714 2017-05-11 15:30:11 2017-05-11 15:41:43  692         \n",
       "3 2173887 2017-03-29 13:26:26 2017-03-29 13:48:31 1325         \n",
       "4 3945638 2017-05-08 19:47:18 2017-05-08 19:59:01  703         \n",
       "5 6208972 2017-06-21 07:49:16 2017-06-21 07:54:46  329         \n",
       "6 1285652 2017-02-22 18:55:24 2017-02-22 19:12:03  998         \n",
       "  Start.Station           End.Station            User.Type  Gender Birth.Year\n",
       "1 Suffolk St & Stanton St W Broadway & Spring St Subscriber Male   1998      \n",
       "2 Lexington Ave & E 63 St 1 Ave & E 78 St        Subscriber Male   1981      \n",
       "3 1 Pl & Clinton St       Henry St & Degraw St   Subscriber Male   1987      \n",
       "4 Barrow St & Hudson St   W 20 St & 8 Ave        Subscriber Female 1986      \n",
       "5 1 Ave & E 44 St         E 53 St & 3 Ave        Subscriber Male   1992      \n",
       "6 State St & Smith St     Bond St & Fulton St    Subscriber Male   1986      "
      ]
     },
     "metadata": {},
     "output_type": "display_data"
    }
   ],
   "source": [
    "#Checking dataframes \n",
    "head(ny)"
   ]
  },
  {
   "cell_type": "code",
   "execution_count": 37,
   "metadata": {},
   "outputs": [
    {
     "data": {
      "text/html": [
       "<table>\n",
       "<thead><tr><th scope=col>X</th><th scope=col>Start.Time</th><th scope=col>End.Time</th><th scope=col>Trip.Duration</th><th scope=col>Start.Station</th><th scope=col>End.Station</th><th scope=col>User.Type</th></tr></thead>\n",
       "<tbody>\n",
       "\t<tr><td>1621326                                                                                        </td><td>2017-06-21 08:36:34                                                                            </td><td>2017-06-21 08:44:43                                                                            </td><td> 489.066                                                                                       </td><td><span style=white-space:pre-wrap>14th &amp; Belmont St NW                       </span>        </td><td><span style=white-space:pre-wrap>15th &amp; K St NW                                     </span></td><td>Subscriber                                                                                     </td></tr>\n",
       "\t<tr><td> 482740                                                                                        </td><td>2017-03-11 10:40:00                                                                            </td><td>2017-03-11 10:46:00                                                                            </td><td> 402.549                                                                                       </td><td><span style=white-space:pre-wrap>Yuma St &amp; Tenley Circle NW                 </span>        </td><td><span style=white-space:pre-wrap>Connecticut Ave &amp; Yuma St NW                       </span></td><td>Subscriber                                                                                     </td></tr>\n",
       "\t<tr><td>1330037                                                                                        </td><td>2017-05-30 01:02:59                                                                            </td><td>2017-05-30 01:13:37                                                                            </td><td> 637.251                                                                                       </td><td><span style=white-space:pre-wrap>17th St &amp; Massachusetts Ave NW             </span>        </td><td><span style=white-space:pre-wrap>5th &amp; K St NW                                      </span></td><td>Subscriber                                                                                     </td></tr>\n",
       "\t<tr><td> 665458                                                                                        </td><td>2017-04-02 07:48:35                                                                            </td><td>2017-04-02 08:19:03                                                                            </td><td>1827.341                                                                                       </td><td><span style=white-space:pre-wrap>Constitution Ave &amp; 2nd St NW/DOL           </span>        </td><td><span style=white-space:pre-wrap>M St &amp; Pennsylvania Ave NW                         </span></td><td><span style=white-space:pre-wrap>Customer  </span>                                             </td></tr>\n",
       "\t<tr><td>1481135                                                                                        </td><td>2017-06-10 08:36:28                                                                            </td><td>2017-06-10 09:02:17                                                                            </td><td>1549.427                                                                                       </td><td>Henry Bacon Dr &amp; Lincoln Memorial Circle NW                                                </td><td><span style=white-space:pre-wrap>Maine Ave &amp; 7th St SW                              </span></td><td>Subscriber                                                                                     </td></tr>\n",
       "\t<tr><td>1148202                                                                                </td><td>2017-05-14 07:18:18                                                                    </td><td>2017-05-14 07:24:56                                                                    </td><td> 398.000                                                                               </td><td><span style=white-space:pre-wrap>1st &amp; K St SE                              </span></td><td>Eastern Market Metro / Pennsylvania Ave &amp; 7th St SE                                </td><td>Subscriber                                                                             </td></tr>\n",
       "</tbody>\n",
       "</table>\n"
      ],
      "text/latex": [
       "\\begin{tabular}{r|lllllll}\n",
       " X & Start.Time & End.Time & Trip.Duration & Start.Station & End.Station & User.Type\\\\\n",
       "\\hline\n",
       "\t 1621326                                               & 2017-06-21 08:36:34                                   & 2017-06-21 08:44:43                                   &  489.066                                              & 14th \\& Belmont St NW                                & 15th \\& K St NW                                      & Subscriber                                           \\\\\n",
       "\t  482740                                               & 2017-03-11 10:40:00                                   & 2017-03-11 10:46:00                                   &  402.549                                              & Yuma St \\& Tenley Circle NW                          & Connecticut Ave \\& Yuma St NW                        & Subscriber                                           \\\\\n",
       "\t 1330037                                               & 2017-05-30 01:02:59                                   & 2017-05-30 01:13:37                                   &  637.251                                              & 17th St \\& Massachusetts Ave NW                      & 5th \\& K St NW                                       & Subscriber                                           \\\\\n",
       "\t  665458                                               & 2017-04-02 07:48:35                                   & 2017-04-02 08:19:03                                   & 1827.341                                              & Constitution Ave \\& 2nd St NW/DOL                    & M St \\& Pennsylvania Ave NW                          & Customer                                             \\\\\n",
       "\t 1481135                                               & 2017-06-10 08:36:28                                   & 2017-06-10 09:02:17                                   & 1549.427                                              & Henry Bacon Dr \\& Lincoln Memorial Circle NW         & Maine Ave \\& 7th St SW                               & Subscriber                                           \\\\\n",
       "\t 1148202                                               & 2017-05-14 07:18:18                                   & 2017-05-14 07:24:56                                   &  398.000                                              & 1st \\& K St SE                                       & Eastern Market Metro / Pennsylvania Ave \\& 7th St SE & Subscriber                                           \\\\\n",
       "\\end{tabular}\n"
      ],
      "text/markdown": [
       "\n",
       "| X | Start.Time | End.Time | Trip.Duration | Start.Station | End.Station | User.Type |\n",
       "|---|---|---|---|---|---|---|\n",
       "| 1621326                                             | 2017-06-21 08:36:34                                 | 2017-06-21 08:44:43                                 |  489.066                                            | 14th & Belmont St NW                                | 15th & K St NW                                      | Subscriber                                          |\n",
       "|  482740                                             | 2017-03-11 10:40:00                                 | 2017-03-11 10:46:00                                 |  402.549                                            | Yuma St & Tenley Circle NW                          | Connecticut Ave & Yuma St NW                        | Subscriber                                          |\n",
       "| 1330037                                             | 2017-05-30 01:02:59                                 | 2017-05-30 01:13:37                                 |  637.251                                            | 17th St & Massachusetts Ave NW                      | 5th & K St NW                                       | Subscriber                                          |\n",
       "|  665458                                             | 2017-04-02 07:48:35                                 | 2017-04-02 08:19:03                                 | 1827.341                                            | Constitution Ave & 2nd St NW/DOL                    | M St & Pennsylvania Ave NW                          | Customer                                            |\n",
       "| 1481135                                             | 2017-06-10 08:36:28                                 | 2017-06-10 09:02:17                                 | 1549.427                                            | Henry Bacon Dr & Lincoln Memorial Circle NW         | Maine Ave & 7th St SW                               | Subscriber                                          |\n",
       "| 1148202                                             | 2017-05-14 07:18:18                                 | 2017-05-14 07:24:56                                 |  398.000                                            | 1st & K St SE                                       | Eastern Market Metro / Pennsylvania Ave & 7th St SE | Subscriber                                          |\n",
       "\n"
      ],
      "text/plain": [
       "  X       Start.Time          End.Time            Trip.Duration\n",
       "1 1621326 2017-06-21 08:36:34 2017-06-21 08:44:43  489.066     \n",
       "2  482740 2017-03-11 10:40:00 2017-03-11 10:46:00  402.549     \n",
       "3 1330037 2017-05-30 01:02:59 2017-05-30 01:13:37  637.251     \n",
       "4  665458 2017-04-02 07:48:35 2017-04-02 08:19:03 1827.341     \n",
       "5 1481135 2017-06-10 08:36:28 2017-06-10 09:02:17 1549.427     \n",
       "6 1148202 2017-05-14 07:18:18 2017-05-14 07:24:56  398.000     \n",
       "  Start.Station                              \n",
       "1 14th & Belmont St NW                       \n",
       "2 Yuma St & Tenley Circle NW                 \n",
       "3 17th St & Massachusetts Ave NW             \n",
       "4 Constitution Ave & 2nd St NW/DOL           \n",
       "5 Henry Bacon Dr & Lincoln Memorial Circle NW\n",
       "6 1st & K St SE                              \n",
       "  End.Station                                         User.Type \n",
       "1 15th & K St NW                                      Subscriber\n",
       "2 Connecticut Ave & Yuma St NW                        Subscriber\n",
       "3 5th & K St NW                                       Subscriber\n",
       "4 M St & Pennsylvania Ave NW                          Customer  \n",
       "5 Maine Ave & 7th St SW                               Subscriber\n",
       "6 Eastern Market Metro / Pennsylvania Ave & 7th St SE Subscriber"
      ]
     },
     "metadata": {},
     "output_type": "display_data"
    }
   ],
   "source": [
    "head(wash)"
   ]
  },
  {
   "cell_type": "code",
   "execution_count": 38,
   "metadata": {},
   "outputs": [
    {
     "data": {
      "text/html": [
       "<table>\n",
       "<thead><tr><th scope=col>X</th><th scope=col>Start.Time</th><th scope=col>End.Time</th><th scope=col>Trip.Duration</th><th scope=col>Start.Station</th><th scope=col>End.Station</th><th scope=col>User.Type</th><th scope=col>Gender</th><th scope=col>Birth.Year</th></tr></thead>\n",
       "<tbody>\n",
       "\t<tr><td>1423854                                                                  </td><td>2017-06-23 15:09:32                                                      </td><td>2017-06-23 15:14:53                                                      </td><td> 321                                                                     </td><td><span style=white-space:pre-wrap>Wood St &amp; Hubbard St         </span></td><td><span style=white-space:pre-wrap>Damen Ave &amp; Chicago Ave     </span> </td><td>Subscriber                                                               </td><td><span style=white-space:pre-wrap>Male  </span>                           </td><td>1992                                                                     </td></tr>\n",
       "\t<tr><td> 955915                                                              </td><td>2017-05-25 18:19:03                                                  </td><td>2017-05-25 18:45:53                                                  </td><td>1610                                                                 </td><td><span style=white-space:pre-wrap>Theater on the Lake          </span></td><td>Sheffield Ave &amp; Waveland Ave                                     </td><td>Subscriber                                                           </td><td>Female                                                               </td><td>1992                                                                 </td></tr>\n",
       "\t<tr><td><span style=white-space:pre-wrap>   9031</span>                          </td><td>2017-01-04 08:27:49                                                      </td><td>2017-01-04 08:34:45                                                      </td><td> 416                                                                     </td><td><span style=white-space:pre-wrap>May St &amp; Taylor St           </span></td><td><span style=white-space:pre-wrap>Wood St &amp; Taylor St         </span> </td><td>Subscriber                                                               </td><td><span style=white-space:pre-wrap>Male  </span>                           </td><td>1981                                                                     </td></tr>\n",
       "\t<tr><td> 304487                                       </td><td>2017-03-06 13:49:38                           </td><td>2017-03-06 13:55:28                           </td><td> 350                                          </td><td>Christiana Ave &amp; Lawrence Ave             </td><td>St. Louis Ave &amp; Balmoral Ave              </td><td>Subscriber                                    </td><td><span style=white-space:pre-wrap>Male  </span></td><td>1986                                          </td></tr>\n",
       "\t<tr><td><span style=white-space:pre-wrap>  45207</span>                          </td><td>2017-01-17 14:53:07                                                      </td><td>2017-01-17 15:02:01                                                      </td><td> 534                                                                     </td><td><span style=white-space:pre-wrap>Clark St &amp; Randolph St       </span></td><td>Desplaines St &amp; Jackson Blvd                                         </td><td>Subscriber                                                               </td><td><span style=white-space:pre-wrap>Male  </span>                           </td><td>1975                                                                     </td></tr>\n",
       "\t<tr><td>1473887                                                                 </td><td>2017-06-26 09:01:20                                                     </td><td>2017-06-26 09:11:06                                                     </td><td> 586                                                                    </td><td>Clinton St &amp; Washington Blvd                                        </td><td><span style=white-space:pre-wrap>Canal St &amp; Taylor St        </span></td><td>Subscriber                                                              </td><td><span style=white-space:pre-wrap>Male  </span>                          </td><td>1990                                                                    </td></tr>\n",
       "</tbody>\n",
       "</table>\n"
      ],
      "text/latex": [
       "\\begin{tabular}{r|lllllllll}\n",
       " X & Start.Time & End.Time & Trip.Duration & Start.Station & End.Station & User.Type & Gender & Birth.Year\\\\\n",
       "\\hline\n",
       "\t 1423854                         & 2017-06-23 15:09:32             & 2017-06-23 15:14:53             &  321                            & Wood St \\& Hubbard St          & Damen Ave \\& Chicago Ave       & Subscriber                      & Male                            & 1992                           \\\\\n",
       "\t  955915                        & 2017-05-25 18:19:03            & 2017-05-25 18:45:53            & 1610                           & Theater on the Lake            & Sheffield Ave \\& Waveland Ave & Subscriber                     & Female                         & 1992                          \\\\\n",
       "\t    9031                         & 2017-01-04 08:27:49             & 2017-01-04 08:34:45             &  416                            & May St \\& Taylor St            & Wood St \\& Taylor St           & Subscriber                      & Male                            & 1981                           \\\\\n",
       "\t  304487                         & 2017-03-06 13:49:38             & 2017-03-06 13:55:28             &  350                            & Christiana Ave \\& Lawrence Ave & St. Louis Ave \\& Balmoral Ave  & Subscriber                      & Male                            & 1986                           \\\\\n",
       "\t   45207                         & 2017-01-17 14:53:07             & 2017-01-17 15:02:01             &  534                            & Clark St \\& Randolph St        & Desplaines St \\& Jackson Blvd  & Subscriber                      & Male                            & 1975                           \\\\\n",
       "\t 1473887                         & 2017-06-26 09:01:20             & 2017-06-26 09:11:06             &  586                            & Clinton St \\& Washington Blvd  & Canal St \\& Taylor St          & Subscriber                      & Male                            & 1990                           \\\\\n",
       "\\end{tabular}\n"
      ],
      "text/markdown": [
       "\n",
       "| X | Start.Time | End.Time | Trip.Duration | Start.Station | End.Station | User.Type | Gender | Birth.Year |\n",
       "|---|---|---|---|---|---|---|---|---|\n",
       "| 1423854                       | 2017-06-23 15:09:32           | 2017-06-23 15:14:53           |  321                          | Wood St & Hubbard St          | Damen Ave & Chicago Ave       | Subscriber                    | Male                          | 1992                          |\n",
       "|  955915                       | 2017-05-25 18:19:03           | 2017-05-25 18:45:53           | 1610                          | Theater on the Lake           | Sheffield Ave & Waveland Ave  | Subscriber                    | Female                        | 1992                          |\n",
       "|    9031                       | 2017-01-04 08:27:49           | 2017-01-04 08:34:45           |  416                          | May St & Taylor St            | Wood St & Taylor St           | Subscriber                    | Male                          | 1981                          |\n",
       "|  304487                       | 2017-03-06 13:49:38           | 2017-03-06 13:55:28           |  350                          | Christiana Ave & Lawrence Ave | St. Louis Ave & Balmoral Ave  | Subscriber                    | Male                          | 1986                          |\n",
       "|   45207                       | 2017-01-17 14:53:07           | 2017-01-17 15:02:01           |  534                          | Clark St & Randolph St        | Desplaines St & Jackson Blvd  | Subscriber                    | Male                          | 1975                          |\n",
       "| 1473887                       | 2017-06-26 09:01:20           | 2017-06-26 09:11:06           |  586                          | Clinton St & Washington Blvd  | Canal St & Taylor St          | Subscriber                    | Male                          | 1990                          |\n",
       "\n"
      ],
      "text/plain": [
       "  X       Start.Time          End.Time            Trip.Duration\n",
       "1 1423854 2017-06-23 15:09:32 2017-06-23 15:14:53  321         \n",
       "2  955915 2017-05-25 18:19:03 2017-05-25 18:45:53 1610         \n",
       "3    9031 2017-01-04 08:27:49 2017-01-04 08:34:45  416         \n",
       "4  304487 2017-03-06 13:49:38 2017-03-06 13:55:28  350         \n",
       "5   45207 2017-01-17 14:53:07 2017-01-17 15:02:01  534         \n",
       "6 1473887 2017-06-26 09:01:20 2017-06-26 09:11:06  586         \n",
       "  Start.Station                 End.Station                  User.Type  Gender\n",
       "1 Wood St & Hubbard St          Damen Ave & Chicago Ave      Subscriber Male  \n",
       "2 Theater on the Lake           Sheffield Ave & Waveland Ave Subscriber Female\n",
       "3 May St & Taylor St            Wood St & Taylor St          Subscriber Male  \n",
       "4 Christiana Ave & Lawrence Ave St. Louis Ave & Balmoral Ave Subscriber Male  \n",
       "5 Clark St & Randolph St        Desplaines St & Jackson Blvd Subscriber Male  \n",
       "6 Clinton St & Washington Blvd  Canal St & Taylor St         Subscriber Male  \n",
       "  Birth.Year\n",
       "1 1992      \n",
       "2 1992      \n",
       "3 1981      \n",
       "4 1986      \n",
       "5 1975      \n",
       "6 1990      "
      ]
     },
     "metadata": {},
     "output_type": "display_data"
    }
   ],
   "source": [
    "head(chi)"
   ]
  },
  {
   "cell_type": "code",
   "execution_count": 39,
   "metadata": {},
   "outputs": [
    {
     "data": {
      "text/html": [
       "<ol class=list-inline>\n",
       "\t<li>54770</li>\n",
       "\t<li>9</li>\n",
       "</ol>\n"
      ],
      "text/latex": [
       "\\begin{enumerate*}\n",
       "\\item 54770\n",
       "\\item 9\n",
       "\\end{enumerate*}\n"
      ],
      "text/markdown": [
       "1. 54770\n",
       "2. 9\n",
       "\n",
       "\n"
      ],
      "text/plain": [
       "[1] 54770     9"
      ]
     },
     "metadata": {},
     "output_type": "display_data"
    }
   ],
   "source": [
    "#checking rows and columns for each data frame\n",
    "dim(ny)"
   ]
  },
  {
   "cell_type": "code",
   "execution_count": 40,
   "metadata": {},
   "outputs": [
    {
     "data": {
      "text/html": [
       "<ol class=list-inline>\n",
       "\t<li>89051</li>\n",
       "\t<li>7</li>\n",
       "</ol>\n"
      ],
      "text/latex": [
       "\\begin{enumerate*}\n",
       "\\item 89051\n",
       "\\item 7\n",
       "\\end{enumerate*}\n"
      ],
      "text/markdown": [
       "1. 89051\n",
       "2. 7\n",
       "\n",
       "\n"
      ],
      "text/plain": [
       "[1] 89051     7"
      ]
     },
     "metadata": {},
     "output_type": "display_data"
    }
   ],
   "source": [
    "dim(wash)"
   ]
  },
  {
   "cell_type": "code",
   "execution_count": 41,
   "metadata": {},
   "outputs": [
    {
     "data": {
      "text/html": [
       "<ol class=list-inline>\n",
       "\t<li>8630</li>\n",
       "\t<li>9</li>\n",
       "</ol>\n"
      ],
      "text/latex": [
       "\\begin{enumerate*}\n",
       "\\item 8630\n",
       "\\item 9\n",
       "\\end{enumerate*}\n"
      ],
      "text/markdown": [
       "1. 8630\n",
       "2. 9\n",
       "\n",
       "\n"
      ],
      "text/plain": [
       "[1] 8630    9"
      ]
     },
     "metadata": {},
     "output_type": "display_data"
    }
   ],
   "source": [
    "dim(chi)"
   ]
  },
  {
   "cell_type": "markdown",
   "metadata": {},
   "source": [
    "#### Data Wrangling\n",
    "Manipulating data for to make it easier to work with."
   ]
  },
  {
   "cell_type": "code",
   "execution_count": 4,
   "metadata": {},
   "outputs": [],
   "source": [
    "#Adding a new column: Location and filling the data with the default location\n",
    "ny$Location <- 'New York'\n",
    "wash$Location <- 'Washington'\n",
    "chi$Location <- 'Chicago'"
   ]
  },
  {
   "cell_type": "code",
   "execution_count": 5,
   "metadata": {},
   "outputs": [],
   "source": [
    "#Inserting all data frames into list\n",
    "df_list <- list(ny, wash, chi)\n",
    "\n",
    "#merge all data frames in list and setting it as a new dataframe\n",
    "bikeshare_master = Reduce(function(x, y) merge(x, y, all=TRUE), df_list)"
   ]
  },
  {
   "cell_type": "code",
   "execution_count": 42,
   "metadata": {},
   "outputs": [
    {
     "data": {
      "text/html": [
       "<table>\n",
       "<thead><tr><th scope=col>X</th><th scope=col>Start.Time</th><th scope=col>End.Time</th><th scope=col>Trip.Duration</th><th scope=col>Start.Station</th><th scope=col>End.Station</th><th scope=col>User.Type</th><th scope=col>Location</th><th scope=col>Gender</th><th scope=col>Birth.Year</th></tr></thead>\n",
       "<tbody>\n",
       "\t<tr><td> 7                                          </td><td>2017-01-01 00:11:00                         </td><td>2017-01-01 00:14:00                         </td><td>200.077                                     </td><td>Adams Mill &amp; Columbia Rd NW             </td><td>Calvert St &amp; Woodley Pl NW              </td><td>Subscriber                                  </td><td>Washington                                  </td><td><span style=white-space:pre-wrap>NA  </span></td><td><span style=white-space:pre-wrap>  NA</span></td></tr>\n",
       "\t<tr><td>13                                                                     </td><td>2017-01-01 00:16:00                                                    </td><td>2017-01-01 00:26:00                                                    </td><td>600.116                                                                </td><td><span style=white-space:pre-wrap>Prince St &amp; Union St       </span></td><td><span style=white-space:pre-wrap>King St Metro South       </span>     </td><td>Subscriber                                                             </td><td>Washington                                                             </td><td><span style=white-space:pre-wrap>NA  </span>                           </td><td><span style=white-space:pre-wrap>  NA</span>                           </td></tr>\n",
       "\t<tr><td>21                                                                    </td><td>2017-01-01 00:23:00                                                   </td><td>2017-01-01 00:32:00                                                   </td><td>543.776                                                               </td><td>New Hampshire Ave &amp; T St NW                                       </td><td><span style=white-space:pre-wrap>11th &amp; O St NW            </span></td><td>Subscriber                                                            </td><td>Washington                                                            </td><td><span style=white-space:pre-wrap>NA  </span>                          </td><td><span style=white-space:pre-wrap>  NA</span>                          </td></tr>\n",
       "\t<tr><td>36                                                                     </td><td>2017-01-01 00:40:14                                                    </td><td>2017-01-01 00:46:32                                                    </td><td>378.000                                                                </td><td><span style=white-space:pre-wrap>Ritchie Ct &amp; Banks St      </span></td><td><span style=white-space:pre-wrap>Clark St &amp; Lincoln Ave    </span> </td><td>Subscriber                                                             </td><td><span style=white-space:pre-wrap>Chicago   </span>                     </td><td>Male                                                                   </td><td>1964                                                                   </td></tr>\n",
       "\t<tr><td>47                                                                     </td><td>2017-01-01 00:17:01                                                    </td><td>2017-01-01 00:32:20                                                    </td><td>919.000                                                                </td><td><span style=white-space:pre-wrap>W 27 St &amp; 7 Ave            </span></td><td><span style=white-space:pre-wrap>E 17 St &amp; Broadway        </span> </td><td><span style=white-space:pre-wrap>Customer  </span>                     </td><td><span style=white-space:pre-wrap>New York  </span>                     </td><td><span style=white-space:pre-wrap>NA  </span>                           </td><td><span style=white-space:pre-wrap>  NA</span>                           </td></tr>\n",
       "\t<tr><td>61                                                                     </td><td>2017-01-01 00:52:00                                                    </td><td>2017-01-01 00:57:00                                                    </td><td>274.500                                                                </td><td><span style=white-space:pre-wrap>14th St &amp; New York Ave NW  </span></td><td><span style=white-space:pre-wrap>12th &amp; L St NW            </span> </td><td>Subscriber                                                             </td><td>Washington                                                             </td><td><span style=white-space:pre-wrap>NA  </span>                           </td><td><span style=white-space:pre-wrap>  NA</span>                           </td></tr>\n",
       "</tbody>\n",
       "</table>\n"
      ],
      "text/latex": [
       "\\begin{tabular}{r|llllllllll}\n",
       " X & Start.Time & End.Time & Trip.Duration & Start.Station & End.Station & User.Type & Location & Gender & Birth.Year\\\\\n",
       "\\hline\n",
       "\t  7                            & 2017-01-01 00:11:00           & 2017-01-01 00:14:00           & 200.077                       & Adams Mill \\& Columbia Rd NW & Calvert St \\& Woodley Pl NW  & Subscriber                    & Washington                    & NA                            &   NA                         \\\\\n",
       "\t 13                            & 2017-01-01 00:16:00           & 2017-01-01 00:26:00           & 600.116                       & Prince St \\& Union St        & King St Metro South           & Subscriber                    & Washington                    & NA                            &   NA                         \\\\\n",
       "\t 21                            & 2017-01-01 00:23:00           & 2017-01-01 00:32:00           & 543.776                       & New Hampshire Ave \\& T St NW & 11th \\& O St NW              & Subscriber                    & Washington                    & NA                            &   NA                         \\\\\n",
       "\t 36                            & 2017-01-01 00:40:14           & 2017-01-01 00:46:32           & 378.000                       & Ritchie Ct \\& Banks St       & Clark St \\& Lincoln Ave      & Subscriber                    & Chicago                       & Male                          & 1964                         \\\\\n",
       "\t 47                            & 2017-01-01 00:17:01           & 2017-01-01 00:32:20           & 919.000                       & W 27 St \\& 7 Ave             & E 17 St \\& Broadway          & Customer                      & New York                      & NA                            &   NA                         \\\\\n",
       "\t 61                            & 2017-01-01 00:52:00           & 2017-01-01 00:57:00           & 274.500                       & 14th St \\& New York Ave NW   & 12th \\& L St NW              & Subscriber                    & Washington                    & NA                            &   NA                         \\\\\n",
       "\\end{tabular}\n"
      ],
      "text/markdown": [
       "\n",
       "| X | Start.Time | End.Time | Trip.Duration | Start.Station | End.Station | User.Type | Location | Gender | Birth.Year |\n",
       "|---|---|---|---|---|---|---|---|---|---|\n",
       "|  7                          | 2017-01-01 00:11:00         | 2017-01-01 00:14:00         | 200.077                     | Adams Mill & Columbia Rd NW | Calvert St & Woodley Pl NW  | Subscriber                  | Washington                  | NA                          |   NA                        |\n",
       "| 13                          | 2017-01-01 00:16:00         | 2017-01-01 00:26:00         | 600.116                     | Prince St & Union St        | King St Metro South         | Subscriber                  | Washington                  | NA                          |   NA                        |\n",
       "| 21                          | 2017-01-01 00:23:00         | 2017-01-01 00:32:00         | 543.776                     | New Hampshire Ave & T St NW | 11th & O St NW              | Subscriber                  | Washington                  | NA                          |   NA                        |\n",
       "| 36                          | 2017-01-01 00:40:14         | 2017-01-01 00:46:32         | 378.000                     | Ritchie Ct & Banks St       | Clark St & Lincoln Ave      | Subscriber                  | Chicago                     | Male                        | 1964                        |\n",
       "| 47                          | 2017-01-01 00:17:01         | 2017-01-01 00:32:20         | 919.000                     | W 27 St & 7 Ave             | E 17 St & Broadway          | Customer                    | New York                    | NA                          |   NA                        |\n",
       "| 61                          | 2017-01-01 00:52:00         | 2017-01-01 00:57:00         | 274.500                     | 14th St & New York Ave NW   | 12th & L St NW              | Subscriber                  | Washington                  | NA                          |   NA                        |\n",
       "\n"
      ],
      "text/plain": [
       "  X  Start.Time          End.Time            Trip.Duration\n",
       "1  7 2017-01-01 00:11:00 2017-01-01 00:14:00 200.077      \n",
       "2 13 2017-01-01 00:16:00 2017-01-01 00:26:00 600.116      \n",
       "3 21 2017-01-01 00:23:00 2017-01-01 00:32:00 543.776      \n",
       "4 36 2017-01-01 00:40:14 2017-01-01 00:46:32 378.000      \n",
       "5 47 2017-01-01 00:17:01 2017-01-01 00:32:20 919.000      \n",
       "6 61 2017-01-01 00:52:00 2017-01-01 00:57:00 274.500      \n",
       "  Start.Station               End.Station                User.Type  Location  \n",
       "1 Adams Mill & Columbia Rd NW Calvert St & Woodley Pl NW Subscriber Washington\n",
       "2 Prince St & Union St        King St Metro South        Subscriber Washington\n",
       "3 New Hampshire Ave & T St NW 11th & O St NW             Subscriber Washington\n",
       "4 Ritchie Ct & Banks St       Clark St & Lincoln Ave     Subscriber Chicago   \n",
       "5 W 27 St & 7 Ave             E 17 St & Broadway         Customer   New York  \n",
       "6 14th St & New York Ave NW   12th & L St NW             Subscriber Washington\n",
       "  Gender Birth.Year\n",
       "1 NA       NA      \n",
       "2 NA       NA      \n",
       "3 NA       NA      \n",
       "4 Male   1964      \n",
       "5 NA       NA      \n",
       "6 NA       NA      "
      ]
     },
     "metadata": {},
     "output_type": "display_data"
    }
   ],
   "source": [
    "#checking new dataframe\n",
    "head(bikeshare_master)"
   ]
  },
  {
   "cell_type": "code",
   "execution_count": 43,
   "metadata": {},
   "outputs": [
    {
     "data": {
      "text/html": [
       "<ol class=list-inline>\n",
       "\t<li>152451</li>\n",
       "\t<li>10</li>\n",
       "</ol>\n"
      ],
      "text/latex": [
       "\\begin{enumerate*}\n",
       "\\item 152451\n",
       "\\item 10\n",
       "\\end{enumerate*}\n"
      ],
      "text/markdown": [
       "1. 152451\n",
       "2. 10\n",
       "\n",
       "\n"
      ],
      "text/plain": [
       "[1] 152451     10"
      ]
     },
     "metadata": {},
     "output_type": "display_data"
    }
   ],
   "source": [
    "#checking new dimensions\n",
    "dim(bikeshare_master)"
   ]
  },
  {
   "cell_type": "markdown",
   "metadata": {},
   "source": [
    "### Question 1\n",
    "\n",
    "\n",
    "What is the average trip duration for each location?"
   ]
  },
  {
   "cell_type": "markdown",
   "metadata": {},
   "source": [
    "#### New York"
   ]
  },
  {
   "cell_type": "code",
   "execution_count": 50,
   "metadata": {},
   "outputs": [
    {
     "data": {
      "text/plain": [
       "bikeshare_master$Location: Chicago\n",
       "    Min.  1st Qu.   Median     Mean  3rd Qu.     Max. \n",
       "   1.000    6.571   11.167   15.620   18.650 1423.467 \n",
       "------------------------------------------------------------ \n",
       "bikeshare_master$Location: New York\n",
       "     Min.   1st Qu.    Median      Mean   3rd Qu.      Max.      NA's \n",
       "    1.017     6.133    10.167    15.060    17.517 18143.900         1 \n",
       "------------------------------------------------------------ \n",
       "bikeshare_master$Location: Washington\n",
       "     Min.   1st Qu.    Median      Mean   3rd Qu.      Max.      NA's \n",
       "    1.005     6.848    11.783    20.566    20.554 15076.523         1 "
      ]
     },
     "metadata": {},
     "output_type": "display_data"
    }
   ],
   "source": [
    "#Summary Statistics: Trip Duration (in minutes) sorted by Location\n",
    "by(bikeshare_master$Trip.Duration/60, bikeshare_master$Location, summary)"
   ]
  },
  {
   "cell_type": "code",
   "execution_count": 10,
   "metadata": {
    "scrolled": true
   },
   "outputs": [
    {
     "data": {
      "image/png": "[encoded data removed]",
      "text/plain": [
       "plot without title"
      ]
     },
     "metadata": {},
     "output_type": "display_data"
    }
   ],
   "source": [
    "#Trip Duration by Location Box Plot\n",
    "qplot(x= Location, y = Trip.Duration/60, data =subset(bikeshare_master, !is.na(User.Type)),\n",
    "      main = 'Trip Duration by Location', \n",
    "      xlab = 'Location', \n",
    "      ylab = 'Trip Duration (minutes)', \n",
    "      fill = Location, \n",
    "      geom = 'boxplot')+    \n",
    "    coord_cartesian(ylim = c(0,40)) #limits outliers based on IQR"
   ]
  },
  {
   "cell_type": "markdown",
   "metadata": {},
   "source": [
    "### Question 1 Summary\n",
    "\n",
    "- Manipulated Trip Duration to represented minutes for legibility purposes (minutes are easier to understand than seconds). \n",
    "- Average (mean) Trip duration for each location is as follows:\n",
    "    \n",
    "    `Washington: 20.566 minutes`, `Chicago: 15.62 minutes`, `New York: 15.06 minutes`\n",
    "    \n",
    "- Box plots show that the data is skewed right so the median would be the best measure of center for this data. \n",
    "- Median Trip Duration for each location are as follows:\n",
    "    \n",
    "    `Washington: 11.783 minutes`, `Chicago: 11.167 minutes`, `New York: 10.167 minutes`\n",
    "- Washington users had the greatest mean and median followed by Chicago and New York."
   ]
  },
  {
   "cell_type": "markdown",
   "metadata": {},
   "source": [
    "### Question 2\n",
    "\n",
    "What is the most common user type for each location?"
   ]
  },
  {
   "cell_type": "markdown",
   "metadata": {},
   "source": [
    "#### New York"
   ]
  },
  {
   "cell_type": "code",
   "execution_count": 49,
   "metadata": {},
   "outputs": [
    {
     "data": {
      "text/plain": [
       "bikeshare_master$Location: Chicago\n",
       "  Customer Subscriber       NA's \n",
       "      1746       6883          1 \n",
       "------------------------------------------------------------ \n",
       "bikeshare_master$Location: New York\n",
       "  Customer Subscriber       NA's \n",
       "      5558      49093        119 \n",
       "------------------------------------------------------------ \n",
       "bikeshare_master$Location: Washington\n",
       "  Customer Subscriber       NA's \n",
       "     23450      65600          1 "
      ]
     },
     "metadata": {},
     "output_type": "display_data"
    }
   ],
   "source": [
    "#Summary Statistics: User Counts sorted by User Type and Location\n",
    "\n",
    "by(bikeshare_master$User.Type, bikeshare_master$Location, summary)"
   ]
  },
  {
   "cell_type": "code",
   "execution_count": 46,
   "metadata": {},
   "outputs": [
    {
     "data": {
      "image/png": "[encoded data removed]",
      "text/plain": [
       "plot without title"
      ]
     },
     "metadata": {},
     "output_type": "display_data"
    }
   ],
   "source": [
    "#Amount of Users by User Type and Location Visualization (ignoring NA's)\n",
    "qplot(x=Location, data =subset(bikeshare_master, !is.na(User.Type)), \n",
    "      main = 'Amount of Users by User Type and Location', \n",
    "      xlab = 'Location', \n",
    "      ylab = 'Count',\n",
    "      fill = Location,\n",
    "      geom = 'bar') +\n",
    "      facet_wrap(~User.Type)"
   ]
  },
  {
   "cell_type": "markdown",
   "metadata": {},
   "source": [
    "### Question 2 Summary\n",
    "\n",
    "- Washington has the most users of the three locations and Chicago has the least. \n",
    "- Washington has around 9x the amount of subscribers and 13x the amount of standard customers that Chicago does. \n",
    "- New York has around 7x the amount of subscribers and 3x the amount of standard customers that Chicago does. \n",
    "- The percentage of users that are standard customers is around 20% for Chicago and 26% for Washington but only 10% for New York"
   ]
  },
  {
   "cell_type": "markdown",
   "metadata": {},
   "source": [
    "### Question 3\n",
    "\n",
    "What is the most common user by gender for each location?"
   ]
  },
  {
   "cell_type": "code",
   "execution_count": 47,
   "metadata": {},
   "outputs": [
    {
     "data": {
      "text/plain": [
       "bikeshare_master$Location: Chicago\n",
       "Female   Male   NA's \n",
       "  1723   5159   1748 \n",
       "------------------------------------------------------------ \n",
       "bikeshare_master$Location: New York\n",
       "Female   Male   NA's \n",
       " 12159  37201   5410 \n",
       "------------------------------------------------------------ \n",
       "bikeshare_master$Location: Washington\n",
       "Female   Male   NA's \n",
       "     0      0  89051 "
      ]
     },
     "metadata": {},
     "output_type": "display_data"
    }
   ],
   "source": [
    "#Summary Statistics: User Counts sorted by Gender and Location\n",
    "by(bikeshare_master$Gender, bikeshare_master$Location, summary)"
   ]
  },
  {
   "cell_type": "code",
   "execution_count": 48,
   "metadata": {},
   "outputs": [
    {
     "data": {
      "image/png": "[encoded data removed]",
      "text/plain": [
       "plot without title"
      ]
     },
     "metadata": {},
     "output_type": "display_data"
    }
   ],
   "source": [
    "#Amount of Users by Gender and Location Visualization (ignoring NA's)\n",
    "qplot(x=Gender, data =subset(bikeshare_master, !is.na(Gender)),\n",
    "      main = 'Amount of Users by Gender and Location', \n",
    "      xlab = 'Gender', \n",
    "      ylab = 'Count', \n",
    "      geom = 'bar', \n",
    "      fill = Gender)+ \n",
    "    facet_wrap(~Location)"
   ]
  },
  {
   "cell_type": "markdown",
   "metadata": {},
   "source": [
    "### Question 3 Summary\n",
    "\n",
    "- Males make up the majority of gender-identified users for both New York and Chicago.\n",
    "- For both Chicago and New York males users outpace female users at a ratio of around 3:1.\n",
    "- There is a large number of gender NA's for Chicago relative to sample size."
   ]
  },
  {
   "cell_type": "markdown",
   "metadata": {},
   "source": [
    "#### Sources:\n",
    "    Merging data frames: https://www.statology.org/merge-multiple-data-frames-in-r/"
   ]
  },
  {
   "cell_type": "code",
   "execution_count": 53,
   "metadata": {},
   "outputs": [],
   "source": [
    "system('python -m nbconvert Explore_bikeshare_data.ipynb')"
   ]
  },
  {
   "cell_type": "code",
   "execution_count": null,
   "metadata": {},
   "outputs": [],
   "source": []
  }
 ],
 "metadata": {
  "kernelspec": {
   "display_name": "R",
   "language": "R",
   "name": "ir"
  },
  "language_info": {
   "codemirror_mode": "r",
   "file_extension": ".r",
   "mimetype": "text/x-r-source",
   "name": "R",
   "pygments_lexer": "r",
   "version": "3.5.1"
  }
 },
 "nbformat": 4,
 "nbformat_minor": 2
}
